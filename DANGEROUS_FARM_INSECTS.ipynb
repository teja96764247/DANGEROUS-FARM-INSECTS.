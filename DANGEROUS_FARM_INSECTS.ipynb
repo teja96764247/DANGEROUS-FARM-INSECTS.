{
  "nbformat": 4,
  "nbformat_minor": 0,
  "metadata": {
    "colab": {
      "provenance": []
    },
    "kernelspec": {
      "name": "python3",
      "display_name": "Python 3"
    },
    "language_info": {
      "name": "python"
    }
  },
  "cells": [
    {
      "cell_type": "code",
      "execution_count": 1,
      "metadata": {
        "id": "ov2Vew0rzaDQ"
      },
      "outputs": [],
      "source": [
        "!mkdir -p ~/.kaggle\n",
        "!cp kaggle.json ~/.kaggle/\n",
        "!chmod 600 ~/.kaggle/kaggle.json"
      ]
    },
    {
      "cell_type": "code",
      "source": [
        "!kaggle datasets download -d tarundalal/dangerous-insects-dataset"
      ],
      "metadata": {
        "colab": {
          "base_uri": "https://localhost:8080/"
        },
        "id": "aLdK3Ly6zb01",
        "outputId": "67b6fc89-6c5c-41f3-ad1d-e8062840c050"
      },
      "execution_count": 2,
      "outputs": [
        {
          "output_type": "stream",
          "name": "stdout",
          "text": [
            "Downloading dangerous-insects-dataset.zip to /content\n",
            " 97% 435M/447M [00:05<00:00, 59.3MB/s]\n",
            "100% 447M/447M [00:05<00:00, 83.2MB/s]\n"
          ]
        }
      ]
    },
    {
      "cell_type": "code",
      "source": [
        "from zipfile import ZipFile\n",
        "dataset = '/content/dangerous-insects-dataset.zip'\n",
        "\n",
        "with ZipFile(dataset,'r') as zip:\n",
        "  zip.extractall()\n",
        "  print('The dataset is extracted')"
      ],
      "metadata": {
        "colab": {
          "base_uri": "https://localhost:8080/"
        },
        "id": "nY9NpL91zsZa",
        "outputId": "8fd6cc7b-729d-4503-927d-492d32664e00"
      },
      "execution_count": 3,
      "outputs": [
        {
          "output_type": "stream",
          "name": "stdout",
          "text": [
            "The dataset is extracted\n"
          ]
        }
      ]
    },
    {
      "cell_type": "code",
      "source": [
        "import numpy as np\n",
        "import pandas as pd\n",
        "import matplotlib.pyplot as plt\n",
        "import os\n",
        "import cv2\n",
        "from PIL import Image\n",
        "from google.colab.patches import cv2_imshow"
      ],
      "metadata": {
        "id": "Y4jpOQ3Kz19k"
      },
      "execution_count": 4,
      "outputs": []
    },
    {
      "cell_type": "code",
      "source": [
        "insects_folder=os.listdir('/content/farm_insects')\n",
        "print(insects_folder)\n",
        "print(len(insects_folder))"
      ],
      "metadata": {
        "colab": {
          "base_uri": "https://localhost:8080/"
        },
        "id": "O6FQ7dv10LXK",
        "outputId": "edadf40e-6801-4fbf-e3fe-3062d33354a3"
      },
      "execution_count": 5,
      "outputs": [
        {
          "output_type": "stream",
          "name": "stdout",
          "text": [
            "['Fruit Flies', 'Cabbage Loopers', 'Western Corn Rootworms', 'Colorado Potato Beetles', 'Brown Marmorated Stink Bugs', 'Corn Borers', 'Spider Mites', 'Thrips', 'Tomato Hornworms', 'Aphids', 'Fall Armyworms', 'Africanized Honey Bees (Killer Bees)', 'Citrus Canker', 'Corn Earworms', 'Armyworms']\n",
            "15\n"
          ]
        }
      ]
    },
    {
      "cell_type": "code",
      "source": [
        "data=[]"
      ],
      "metadata": {
        "id": "xDKeNFS31Lvw"
      },
      "execution_count": 8,
      "outputs": []
    },
    {
      "cell_type": "code",
      "source": [
        "for i in range(15):\n",
        "  folder_path='/content/farm_insects/'+insects_folder[i]\n",
        "  img_folder=os.listdir(folder_path)\n",
        "  l=len(img_folder)\n",
        "  for j in range(l):\n",
        "    img_path=folder_path+'/'+img_folder[j]\n",
        "    img_pillow=Image.open(img_path)\n",
        "    img_color=img_pillow.convert('RGB')\n",
        "    img_resize=img_color.resize((64,64))\n",
        "    img_arr=np.array(img_resize)\n",
        "    data.append([img_arr,i])"
      ],
      "metadata": {
        "id": "swmkeXuf0WhE"
      },
      "execution_count": null,
      "outputs": []
    },
    {
      "cell_type": "code",
      "source": [
        "len(data)"
      ],
      "metadata": {
        "colab": {
          "base_uri": "https://localhost:8080/"
        },
        "id": "GzUUHXtv1OLE",
        "outputId": "a48497c9-12d5-40aa-88f0-20443bb33f49"
      },
      "execution_count": 10,
      "outputs": [
        {
          "output_type": "execute_result",
          "data": {
            "text/plain": [
              "1591"
            ]
          },
          "metadata": {},
          "execution_count": 10
        }
      ]
    },
    {
      "cell_type": "code",
      "source": [
        "x=[]\n",
        "y=[]\n",
        "for i,j in data:\n",
        "  x.append(i)\n",
        "  y.append(j)"
      ],
      "metadata": {
        "id": "wCUAzKLs1UMm"
      },
      "execution_count": 11,
      "outputs": []
    },
    {
      "cell_type": "code",
      "source": [
        "x=np.array(x)\n",
        "y=np.array(y)"
      ],
      "metadata": {
        "id": "IEVYT7aQ1aRl"
      },
      "execution_count": 12,
      "outputs": []
    },
    {
      "cell_type": "code",
      "source": [
        "from sklearn.model_selection import train_test_split\n",
        "x_train,x_test,y_train,y_test=train_test_split(x,y,test_size=0.1,random_state=0)"
      ],
      "metadata": {
        "id": "mPu0QsPe1eLz"
      },
      "execution_count": 13,
      "outputs": []
    },
    {
      "cell_type": "code",
      "source": [
        "cv2_imshow(x_train[0])"
      ],
      "metadata": {
        "colab": {
          "base_uri": "https://localhost:8080/",
          "height": 81
        },
        "id": "7tMVcdo81sir",
        "outputId": "97e82a94-7315-4bee-9736-a7b21ef05259"
      },
      "execution_count": 14,
      "outputs": [
        {
          "output_type": "display_data",
          "data": {
            "text/plain": [
              "<PIL.Image.Image image mode=RGB size=64x64>"
            ],
            "image/png": "[encoded data removed]"
          },
          "metadata": {}
        }
      ]
    },
    {
      "cell_type": "code",
      "source": [
        "y_train[0]"
      ],
      "metadata": {
        "colab": {
          "base_uri": "https://localhost:8080/"
        },
        "id": "5y5qmeJb1vEj",
        "outputId": "2e7a4e29-5311-4a89-c7d1-8acd1c8ddb28"
      },
      "execution_count": 15,
      "outputs": [
        {
          "output_type": "execute_result",
          "data": {
            "text/plain": [
              "7"
            ]
          },
          "metadata": {},
          "execution_count": 15
        }
      ]
    },
    {
      "cell_type": "code",
      "source": [
        "x_train_scaled=x_train/255\n",
        "x_test_scaled=x_test/255"
      ],
      "metadata": {
        "id": "AFVhQwD02JnA"
      },
      "execution_count": 18,
      "outputs": []
    },
    {
      "cell_type": "code",
      "source": [
        "import tensorflow as tf\n",
        "from tensorflow import keras"
      ],
      "metadata": {
        "id": "vwnDn8h32vZG"
      },
      "execution_count": 19,
      "outputs": []
    },
    {
      "cell_type": "code",
      "source": [
        "num_of_classes=15\n",
        "model=keras.Sequential()\n",
        "\n",
        "model.add(keras.layers.Conv2D(32,kernel_size=(3,3),activation='relu',input_shape=(64,64,3)))\n",
        "model.add(keras.layers.MaxPooling2D(pool_size=(2,2)))\n",
        "\n",
        "model.add(keras.layers.Conv2D(64,kernel_size=(3,3),activation='relu'))\n",
        "model.add(keras.layers.MaxPooling2D(pool_size=(2,2)))\n",
        "\n",
        "model.add(keras.layers.Flatten())\n",
        "\n",
        "model.add(keras.layers.Dense(128,activation='relu'))\n",
        "model.add(keras.layers.Dropout(0.5))\n",
        "\n",
        "model.add(keras.layers.Dense(64,activation='relu'))\n",
        "model.add(keras.layers.Dropout(0.5))\n",
        "\n",
        "model.add(keras.layers.Dense(num_of_classes,activation='softmax'))"
      ],
      "metadata": {
        "id": "f79zLBhH2iI0"
      },
      "execution_count": 20,
      "outputs": []
    },
    {
      "cell_type": "code",
      "source": [
        "model.compile(optimizer='adam',loss='sparse_categorical_crossentropy',metrics=['accuracy'])"
      ],
      "metadata": {
        "id": "Y1W9dmmn21gT"
      },
      "execution_count": 21,
      "outputs": []
    },
    {
      "cell_type": "code",
      "source": [
        "model.fit(x_train_scaled,y_train,epochs=100,validation_split=0.1)"
      ],
      "metadata": {
        "colab": {
          "base_uri": "https://localhost:8080/"
        },
        "id": "qV4z92iB2-tc",
        "outputId": "87ec65d6-b1f3-444f-fab2-1b1e5cf7ffdc"
      },
      "execution_count": 22,
      "outputs": [
        {
          "output_type": "stream",
          "name": "stdout",
          "text": [
            "41/41 [==============================] - 7s 173ms/step - loss: 0.2214 - accuracy: 0.9215 - val_loss: 3.2248 - val_accuracy: 0.3611\n",
            "Epoch 92/100\n",
            "41/41 [==============================] - 6s 155ms/step - loss: 0.2353 - accuracy: 0.9176 - val_loss: 3.1197 - val_accuracy: 0.3681\n",
            "Epoch 93/100\n",
            "41/41 [==============================] - 7s 161ms/step - loss: 0.2429 - accuracy: 0.9114 - val_loss: 3.0456 - val_accuracy: 0.3889\n",
            "Epoch 94/100\n",
            "41/41 [==============================] - 7s 161ms/step - loss: 0.2222 - accuracy: 0.9223 - val_loss: 3.2959 - val_accuracy: 0.3542\n",
            "Epoch 95/100\n",
            "41/41 [==============================] - 6s 155ms/step - loss: 0.2117 - accuracy: 0.9215 - val_loss: 3.6950 - val_accuracy: 0.3681\n",
            "Epoch 96/100\n",
            "41/41 [==============================] - 7s 171ms/step - loss: 0.2410 - accuracy: 0.9223 - val_loss: 3.1003 - val_accuracy: 0.3819\n",
            "Epoch 97/100\n",
            "41/41 [==============================] - 6s 146ms/step - loss: 0.2285 - accuracy: 0.9293 - val_loss: 3.3412 - val_accuracy: 0.3542\n",
            "Epoch 98/100\n",
            "41/41 [==============================] - 7s 177ms/step - loss: 0.1998 - accuracy: 0.9293 - val_loss: 3.2418 - val_accuracy: 0.3889\n",
            "Epoch 99/100\n",
            "41/41 [==============================] - 6s 145ms/step - loss: 0.2308 - accuracy: 0.9270 - val_loss: 3.2485 - val_accuracy: 0.3681\n",
            "Epoch 100/100\n",
            "41/41 [==============================] - 7s 182ms/step - loss: 0.2198 - accuracy: 0.9285 - val_loss: 3.1684 - val_accuracy: 0.3611\n"
          ]
        },
        {
          "output_type": "execute_result",
          "data": {
            "text/plain": [
              "<keras.src.callbacks.History at 0x7e01983060b0>"
            ]
          },
          "metadata": {},
          "execution_count": 22
        }
      ]
    },
    {
      "cell_type": "code",
      "source": [
        "img_path='/content/farm_insects/Western Corn Rootworms/Image_1.jpg'\n",
        "img_pillow=Image.open(img_path)\n",
        "img_color=img_pillow.convert('RGB')\n",
        "img_resize=img_color.resize((64,64))\n",
        "img_arr=np.array(img_resize)\n",
        "cv2_imshow(img_arr)\n",
        "img_scaled=img_arr/255\n",
        "img_reshape=np.reshape(img_scaled,[1,64,64,3])\n",
        "prediction=model.predict(img_reshape)\n",
        "output=np.argmax(prediction)\n",
        "if(output==0):\n",
        "  print('The insect is Fruit Flies')\n",
        "elif(output==1):\n",
        "  print('The insect is Cabbage Loopers')\n",
        "elif(output==2):\n",
        "  print('The insect is Western Corn Rootworms')\n",
        "elif(output==3):\n",
        "  print('The insect is Colorado Potato Beetles')\n",
        "elif(output==4):\n",
        "  print('The insect is Brown Marmorated Stink Bugs')\n",
        "elif(output==5):\n",
        "  print('The insect is Corn Borers')\n",
        "elif(output==6):\n",
        "  print('The insect is Spider Mites')\n",
        "elif(output==7):\n",
        "  print('The insect is Thrips')\n",
        "elif(output==8):\n",
        "  print('The insect is Tomato Hornworms')\n",
        "elif(output==9):\n",
        "  print('The insect is Aphids')\n",
        "elif(output==10):\n",
        "  print('The insect is Fall Armyworms')\n",
        "elif(output==11):\n",
        "  print('The insect is Africanized Honey Bees (Killer Bees)')\n",
        "elif(output==12):\n",
        "  print('The insect is Citrus Canker')\n",
        "elif(output==13):\n",
        "  print('The insect is Corn Earworms')\n",
        "elif(output==14):\n",
        "  print('The insect is Armyworms')"
      ],
      "metadata": {
        "colab": {
          "base_uri": "https://localhost:8080/",
          "height": 116
        },
        "id": "27J8SJNk3GiU",
        "outputId": "d93baa3c-aa17-41c5-b350-46aafe32da51"
      },
      "execution_count": 30,
      "outputs": [
        {
          "output_type": "display_data",
          "data": {
            "text/plain": [
              "<PIL.Image.Image image mode=RGB size=64x64>"
            ],
            "image/png": "[encoded data removed]"
          },
          "metadata": {}
        },
        {
          "output_type": "stream",
          "name": "stdout",
          "text": [
            "1/1 [==============================] - 0s 23ms/step\n",
            "The insect is Western Corn Rootworms\n"
          ]
        }
      ]
    },
    {
      "cell_type": "code",
      "source": [],
      "metadata": {
        "id": "ryz1Flyt7HuA"
      },
      "execution_count": null,
      "outputs": []
    }
  ]
}